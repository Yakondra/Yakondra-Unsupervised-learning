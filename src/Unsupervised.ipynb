{
    "cells": [
        {
            "cell_type": "markdown",
            "metadata": {},
            "source": [
                "# Explore here"
            ]
        },
        {
            "cell_type": "code",
            "execution_count": 108,
            "metadata": {},
            "outputs": [],
            "source": [
                "import pandas as pd\n",
                "from sklearn.cluster import KMeans\n",
                "from sklearn.datasets import make_blobs"
            ]
        },
        {
            "cell_type": "code",
            "execution_count": 109,
            "metadata": {},
            "outputs": [
                {
                    "data": {
                        "text/html": [
                            "<div>\n",
                            "<style scoped>\n",
                            "    .dataframe tbody tr th:only-of-type {\n",
                            "        vertical-align: middle;\n",
                            "    }\n",
                            "\n",
                            "    .dataframe tbody tr th {\n",
                            "        vertical-align: top;\n",
                            "    }\n",
                            "\n",
                            "    .dataframe thead th {\n",
                            "        text-align: right;\n",
                            "    }\n",
                            "</style>\n",
                            "<table border=\"1\" class=\"dataframe\">\n",
                            "  <thead>\n",
                            "    <tr style=\"text-align: right;\">\n",
                            "      <th></th>\n",
                            "      <th>MedInc</th>\n",
                            "      <th>HouseAge</th>\n",
                            "      <th>AveRooms</th>\n",
                            "      <th>AveBedrms</th>\n",
                            "      <th>Population</th>\n",
                            "      <th>AveOccup</th>\n",
                            "      <th>Latitude</th>\n",
                            "      <th>Longitude</th>\n",
                            "      <th>MedHouseVal</th>\n",
                            "    </tr>\n",
                            "  </thead>\n",
                            "  <tbody>\n",
                            "    <tr>\n",
                            "      <th>0</th>\n",
                            "      <td>8.3252</td>\n",
                            "      <td>41.0</td>\n",
                            "      <td>6.984127</td>\n",
                            "      <td>1.023810</td>\n",
                            "      <td>322.0</td>\n",
                            "      <td>2.555556</td>\n",
                            "      <td>37.88</td>\n",
                            "      <td>-122.23</td>\n",
                            "      <td>4.526</td>\n",
                            "    </tr>\n",
                            "    <tr>\n",
                            "      <th>1</th>\n",
                            "      <td>8.3014</td>\n",
                            "      <td>21.0</td>\n",
                            "      <td>6.238137</td>\n",
                            "      <td>0.971880</td>\n",
                            "      <td>2401.0</td>\n",
                            "      <td>2.109842</td>\n",
                            "      <td>37.86</td>\n",
                            "      <td>-122.22</td>\n",
                            "      <td>3.585</td>\n",
                            "    </tr>\n",
                            "    <tr>\n",
                            "      <th>2</th>\n",
                            "      <td>7.2574</td>\n",
                            "      <td>52.0</td>\n",
                            "      <td>8.288136</td>\n",
                            "      <td>1.073446</td>\n",
                            "      <td>496.0</td>\n",
                            "      <td>2.802260</td>\n",
                            "      <td>37.85</td>\n",
                            "      <td>-122.24</td>\n",
                            "      <td>3.521</td>\n",
                            "    </tr>\n",
                            "    <tr>\n",
                            "      <th>3</th>\n",
                            "      <td>5.6431</td>\n",
                            "      <td>52.0</td>\n",
                            "      <td>5.817352</td>\n",
                            "      <td>1.073059</td>\n",
                            "      <td>558.0</td>\n",
                            "      <td>2.547945</td>\n",
                            "      <td>37.85</td>\n",
                            "      <td>-122.25</td>\n",
                            "      <td>3.413</td>\n",
                            "    </tr>\n",
                            "    <tr>\n",
                            "      <th>4</th>\n",
                            "      <td>3.8462</td>\n",
                            "      <td>52.0</td>\n",
                            "      <td>6.281853</td>\n",
                            "      <td>1.081081</td>\n",
                            "      <td>565.0</td>\n",
                            "      <td>2.181467</td>\n",
                            "      <td>37.85</td>\n",
                            "      <td>-122.25</td>\n",
                            "      <td>3.422</td>\n",
                            "    </tr>\n",
                            "  </tbody>\n",
                            "</table>\n",
                            "</div>"
                        ],
                        "text/plain": [
                            "   MedInc  HouseAge  AveRooms  AveBedrms  Population  AveOccup  Latitude  \\\n",
                            "0  8.3252      41.0  6.984127   1.023810       322.0  2.555556     37.88   \n",
                            "1  8.3014      21.0  6.238137   0.971880      2401.0  2.109842     37.86   \n",
                            "2  7.2574      52.0  8.288136   1.073446       496.0  2.802260     37.85   \n",
                            "3  5.6431      52.0  5.817352   1.073059       558.0  2.547945     37.85   \n",
                            "4  3.8462      52.0  6.281853   1.081081       565.0  2.181467     37.85   \n",
                            "\n",
                            "   Longitude  MedHouseVal  \n",
                            "0    -122.23        4.526  \n",
                            "1    -122.22        3.585  \n",
                            "2    -122.24        3.521  \n",
                            "3    -122.25        3.413  \n",
                            "4    -122.25        3.422  "
                        ]
                    },
                    "execution_count": 109,
                    "metadata": {},
                    "output_type": "execute_result"
                }
            ],
            "source": [
                "df = pd.read_csv('https://raw.githubusercontent.com/4GeeksAcademy/k-means-project-tutorial/main/housing.csv')\n",
                "\n",
                "df.head()"
            ]
        },
        {
            "cell_type": "code",
            "execution_count": 110,
            "metadata": {},
            "outputs": [
                {
                    "data": {
                        "text/plain": [
                            "<bound method DataFrame.info of        MedInc  HouseAge  AveRooms  AveBedrms  Population  AveOccup  Latitude  \\\n",
                            "0      8.3252      41.0  6.984127   1.023810       322.0  2.555556     37.88   \n",
                            "1      8.3014      21.0  6.238137   0.971880      2401.0  2.109842     37.86   \n",
                            "2      7.2574      52.0  8.288136   1.073446       496.0  2.802260     37.85   \n",
                            "3      5.6431      52.0  5.817352   1.073059       558.0  2.547945     37.85   \n",
                            "4      3.8462      52.0  6.281853   1.081081       565.0  2.181467     37.85   \n",
                            "...       ...       ...       ...        ...         ...       ...       ...   \n",
                            "20635  1.5603      25.0  5.045455   1.133333       845.0  2.560606     39.48   \n",
                            "20636  2.5568      18.0  6.114035   1.315789       356.0  3.122807     39.49   \n",
                            "20637  1.7000      17.0  5.205543   1.120092      1007.0  2.325635     39.43   \n",
                            "20638  1.8672      18.0  5.329513   1.171920       741.0  2.123209     39.43   \n",
                            "20639  2.3886      16.0  5.254717   1.162264      1387.0  2.616981     39.37   \n",
                            "\n",
                            "       Longitude  MedHouseVal  \n",
                            "0        -122.23        4.526  \n",
                            "1        -122.22        3.585  \n",
                            "2        -122.24        3.521  \n",
                            "3        -122.25        3.413  \n",
                            "4        -122.25        3.422  \n",
                            "...          ...          ...  \n",
                            "20635    -121.09        0.781  \n",
                            "20636    -121.21        0.771  \n",
                            "20637    -121.22        0.923  \n",
                            "20638    -121.32        0.847  \n",
                            "20639    -121.24        0.894  \n",
                            "\n",
                            "[20640 rows x 9 columns]>"
                        ]
                    },
                    "execution_count": 110,
                    "metadata": {},
                    "output_type": "execute_result"
                }
            ],
            "source": [
                "df.info"
            ]
        },
        {
            "cell_type": "code",
            "execution_count": 111,
            "metadata": {},
            "outputs": [
                {
                    "data": {
                        "text/html": [
                            "<div>\n",
                            "<style scoped>\n",
                            "    .dataframe tbody tr th:only-of-type {\n",
                            "        vertical-align: middle;\n",
                            "    }\n",
                            "\n",
                            "    .dataframe tbody tr th {\n",
                            "        vertical-align: top;\n",
                            "    }\n",
                            "\n",
                            "    .dataframe thead th {\n",
                            "        text-align: right;\n",
                            "    }\n",
                            "</style>\n",
                            "<table border=\"1\" class=\"dataframe\">\n",
                            "  <thead>\n",
                            "    <tr style=\"text-align: right;\">\n",
                            "      <th></th>\n",
                            "      <th>MedInc</th>\n",
                            "      <th>Latitude</th>\n",
                            "      <th>Longitude</th>\n",
                            "    </tr>\n",
                            "  </thead>\n",
                            "  <tbody>\n",
                            "    <tr>\n",
                            "      <th>0</th>\n",
                            "      <td>8.3252</td>\n",
                            "      <td>37.88</td>\n",
                            "      <td>-122.23</td>\n",
                            "    </tr>\n",
                            "    <tr>\n",
                            "      <th>1</th>\n",
                            "      <td>8.3014</td>\n",
                            "      <td>37.86</td>\n",
                            "      <td>-122.22</td>\n",
                            "    </tr>\n",
                            "    <tr>\n",
                            "      <th>2</th>\n",
                            "      <td>7.2574</td>\n",
                            "      <td>37.85</td>\n",
                            "      <td>-122.24</td>\n",
                            "    </tr>\n",
                            "    <tr>\n",
                            "      <th>3</th>\n",
                            "      <td>5.6431</td>\n",
                            "      <td>37.85</td>\n",
                            "      <td>-122.25</td>\n",
                            "    </tr>\n",
                            "    <tr>\n",
                            "      <th>4</th>\n",
                            "      <td>3.8462</td>\n",
                            "      <td>37.85</td>\n",
                            "      <td>-122.25</td>\n",
                            "    </tr>\n",
                            "    <tr>\n",
                            "      <th>...</th>\n",
                            "      <td>...</td>\n",
                            "      <td>...</td>\n",
                            "      <td>...</td>\n",
                            "    </tr>\n",
                            "    <tr>\n",
                            "      <th>20635</th>\n",
                            "      <td>1.5603</td>\n",
                            "      <td>39.48</td>\n",
                            "      <td>-121.09</td>\n",
                            "    </tr>\n",
                            "    <tr>\n",
                            "      <th>20636</th>\n",
                            "      <td>2.5568</td>\n",
                            "      <td>39.49</td>\n",
                            "      <td>-121.21</td>\n",
                            "    </tr>\n",
                            "    <tr>\n",
                            "      <th>20637</th>\n",
                            "      <td>1.7000</td>\n",
                            "      <td>39.43</td>\n",
                            "      <td>-121.22</td>\n",
                            "    </tr>\n",
                            "    <tr>\n",
                            "      <th>20638</th>\n",
                            "      <td>1.8672</td>\n",
                            "      <td>39.43</td>\n",
                            "      <td>-121.32</td>\n",
                            "    </tr>\n",
                            "    <tr>\n",
                            "      <th>20639</th>\n",
                            "      <td>2.3886</td>\n",
                            "      <td>39.37</td>\n",
                            "      <td>-121.24</td>\n",
                            "    </tr>\n",
                            "  </tbody>\n",
                            "</table>\n",
                            "<p>20640 rows × 3 columns</p>\n",
                            "</div>"
                        ],
                        "text/plain": [
                            "       MedInc  Latitude  Longitude\n",
                            "0      8.3252     37.88    -122.23\n",
                            "1      8.3014     37.86    -122.22\n",
                            "2      7.2574     37.85    -122.24\n",
                            "3      5.6431     37.85    -122.25\n",
                            "4      3.8462     37.85    -122.25\n",
                            "...       ...       ...        ...\n",
                            "20635  1.5603     39.48    -121.09\n",
                            "20636  2.5568     39.49    -121.21\n",
                            "20637  1.7000     39.43    -121.22\n",
                            "20638  1.8672     39.43    -121.32\n",
                            "20639  2.3886     39.37    -121.24\n",
                            "\n",
                            "[20640 rows x 3 columns]"
                        ]
                    },
                    "execution_count": 111,
                    "metadata": {},
                    "output_type": "execute_result"
                }
            ],
            "source": [
                "# Latitud, Longitud e IncMed.\n",
                "\n",
                "df_clear = df[['MedInc', 'Latitude', 'Longitude']]\n",
                "df_clear"
            ]
        },
        {
            "cell_type": "code",
            "execution_count": 112,
            "metadata": {},
            "outputs": [],
            "source": [
                "from sklearn.model_selection import train_test_split\n",
                "\n",
                "X_train, X_test = train_test_split(df_clear, test_size = 0.2, random_state = 11)"
            ]
        },
        {
            "cell_type": "code",
            "execution_count": 113,
            "metadata": {},
            "outputs": [
                {
                    "data": {
                        "text/html": [
                            "<style>#sk-container-id-10 {color: black;}#sk-container-id-10 pre{padding: 0;}#sk-container-id-10 div.sk-toggleable {background-color: white;}#sk-container-id-10 label.sk-toggleable__label {cursor: pointer;display: block;width: 100%;margin-bottom: 0;padding: 0.3em;box-sizing: border-box;text-align: center;}#sk-container-id-10 label.sk-toggleable__label-arrow:before {content: \"▸\";float: left;margin-right: 0.25em;color: #696969;}#sk-container-id-10 label.sk-toggleable__label-arrow:hover:before {color: black;}#sk-container-id-10 div.sk-estimator:hover label.sk-toggleable__label-arrow:before {color: black;}#sk-container-id-10 div.sk-toggleable__content {max-height: 0;max-width: 0;overflow: hidden;text-align: left;background-color: #f0f8ff;}#sk-container-id-10 div.sk-toggleable__content pre {margin: 0.2em;color: black;border-radius: 0.25em;background-color: #f0f8ff;}#sk-container-id-10 input.sk-toggleable__control:checked~div.sk-toggleable__content {max-height: 200px;max-width: 100%;overflow: auto;}#sk-container-id-10 input.sk-toggleable__control:checked~label.sk-toggleable__label-arrow:before {content: \"▾\";}#sk-container-id-10 div.sk-estimator input.sk-toggleable__control:checked~label.sk-toggleable__label {background-color: #d4ebff;}#sk-container-id-10 div.sk-label input.sk-toggleable__control:checked~label.sk-toggleable__label {background-color: #d4ebff;}#sk-container-id-10 input.sk-hidden--visually {border: 0;clip: rect(1px 1px 1px 1px);clip: rect(1px, 1px, 1px, 1px);height: 1px;margin: -1px;overflow: hidden;padding: 0;position: absolute;width: 1px;}#sk-container-id-10 div.sk-estimator {font-family: monospace;background-color: #f0f8ff;border: 1px dotted black;border-radius: 0.25em;box-sizing: border-box;margin-bottom: 0.5em;}#sk-container-id-10 div.sk-estimator:hover {background-color: #d4ebff;}#sk-container-id-10 div.sk-parallel-item::after {content: \"\";width: 100%;border-bottom: 1px solid gray;flex-grow: 1;}#sk-container-id-10 div.sk-label:hover label.sk-toggleable__label {background-color: #d4ebff;}#sk-container-id-10 div.sk-serial::before {content: \"\";position: absolute;border-left: 1px solid gray;box-sizing: border-box;top: 0;bottom: 0;left: 50%;z-index: 0;}#sk-container-id-10 div.sk-serial {display: flex;flex-direction: column;align-items: center;background-color: white;padding-right: 0.2em;padding-left: 0.2em;position: relative;}#sk-container-id-10 div.sk-item {position: relative;z-index: 1;}#sk-container-id-10 div.sk-parallel {display: flex;align-items: stretch;justify-content: center;background-color: white;position: relative;}#sk-container-id-10 div.sk-item::before, #sk-container-id-10 div.sk-parallel-item::before {content: \"\";position: absolute;border-left: 1px solid gray;box-sizing: border-box;top: 0;bottom: 0;left: 50%;z-index: -1;}#sk-container-id-10 div.sk-parallel-item {display: flex;flex-direction: column;z-index: 1;position: relative;background-color: white;}#sk-container-id-10 div.sk-parallel-item:first-child::after {align-self: flex-end;width: 50%;}#sk-container-id-10 div.sk-parallel-item:last-child::after {align-self: flex-start;width: 50%;}#sk-container-id-10 div.sk-parallel-item:only-child::after {width: 0;}#sk-container-id-10 div.sk-dashed-wrapped {border: 1px dashed gray;margin: 0 0.4em 0.5em 0.4em;box-sizing: border-box;padding-bottom: 0.4em;background-color: white;}#sk-container-id-10 div.sk-label label {font-family: monospace;font-weight: bold;display: inline-block;line-height: 1.2em;}#sk-container-id-10 div.sk-label-container {text-align: center;}#sk-container-id-10 div.sk-container {/* jupyter's `normalize.less` sets `[hidden] { display: none; }` but bootstrap.min.css set `[hidden] { display: none !important; }` so we also need the `!important` here to be able to override the default hidden behavior on the sphinx rendered scikit-learn.org. See: https://github.com/scikit-learn/scikit-learn/issues/21755 */display: inline-block !important;position: relative;}#sk-container-id-10 div.sk-text-repr-fallback {display: none;}</style><div id=\"sk-container-id-10\" class=\"sk-top-container\"><div class=\"sk-text-repr-fallback\"><pre>KMeans(n_clusters=6, n_init=&#x27;auto&#x27;, random_state=11)</pre><b>In a Jupyter environment, please rerun this cell to show the HTML representation or trust the notebook. <br />On GitHub, the HTML representation is unable to render, please try loading this page with nbviewer.org.</b></div><div class=\"sk-container\" hidden><div class=\"sk-item\"><div class=\"sk-estimator sk-toggleable\"><input class=\"sk-toggleable__control sk-hidden--visually\" id=\"sk-estimator-id-10\" type=\"checkbox\" checked><label for=\"sk-estimator-id-10\" class=\"sk-toggleable__label sk-toggleable__label-arrow\">KMeans</label><div class=\"sk-toggleable__content\"><pre>KMeans(n_clusters=6, n_init=&#x27;auto&#x27;, random_state=11)</pre></div></div></div></div></div>"
                        ],
                        "text/plain": [
                            "KMeans(n_clusters=6, n_init='auto', random_state=11)"
                        ]
                    },
                    "execution_count": 113,
                    "metadata": {},
                    "output_type": "execute_result"
                }
            ],
            "source": [
                "from sklearn.cluster import KMeans\n",
                "\n",
                "train_model_unsup = KMeans(n_clusters = 6, n_init = \"auto\", random_state = 11)\n",
                "train_model_unsup.fit(X_train)"
            ]
        },
        {
            "cell_type": "code",
            "execution_count": 114,
            "metadata": {},
            "outputs": [],
            "source": [
                "y_train= train_model_unsup.labels_"
            ]
        },
        {
            "cell_type": "code",
            "execution_count": 115,
            "metadata": {},
            "outputs": [],
            "source": [
                "test_model_unsup = KMeans(n_clusters = 6, n_init = \"auto\", random_state = 11)\n",
                "test_model_unsup.fit(X_test)\n",
                "y_test= test_model_unsup.labels_"
            ]
        },
        {
            "cell_type": "code",
            "execution_count": 116,
            "metadata": {},
            "outputs": [
                {
                    "data": {
                        "text/plain": [
                            "<bound method NDFrame.describe of        MedInc  HouseAge  AveRooms  AveBedrms  Population  AveOccup  Latitude  \\\n",
                            "0      8.3252      41.0  6.984127   1.023810       322.0  2.555556     37.88   \n",
                            "1      8.3014      21.0  6.238137   0.971880      2401.0  2.109842     37.86   \n",
                            "2      7.2574      52.0  8.288136   1.073446       496.0  2.802260     37.85   \n",
                            "3      5.6431      52.0  5.817352   1.073059       558.0  2.547945     37.85   \n",
                            "4      3.8462      52.0  6.281853   1.081081       565.0  2.181467     37.85   \n",
                            "...       ...       ...       ...        ...         ...       ...       ...   \n",
                            "20635  1.5603      25.0  5.045455   1.133333       845.0  2.560606     39.48   \n",
                            "20636  2.5568      18.0  6.114035   1.315789       356.0  3.122807     39.49   \n",
                            "20637  1.7000      17.0  5.205543   1.120092      1007.0  2.325635     39.43   \n",
                            "20638  1.8672      18.0  5.329513   1.171920       741.0  2.123209     39.43   \n",
                            "20639  2.3886      16.0  5.254717   1.162264      1387.0  2.616981     39.37   \n",
                            "\n",
                            "       Longitude  MedHouseVal  \n",
                            "0        -122.23        4.526  \n",
                            "1        -122.22        3.585  \n",
                            "2        -122.24        3.521  \n",
                            "3        -122.25        3.413  \n",
                            "4        -122.25        3.422  \n",
                            "...          ...          ...  \n",
                            "20635    -121.09        0.781  \n",
                            "20636    -121.21        0.771  \n",
                            "20637    -121.22        0.923  \n",
                            "20638    -121.32        0.847  \n",
                            "20639    -121.24        0.894  \n",
                            "\n",
                            "[20640 rows x 9 columns]>"
                        ]
                    },
                    "execution_count": 116,
                    "metadata": {},
                    "output_type": "execute_result"
                }
            ],
            "source": [
                "# df.describe"
            ]
        },
        {
            "cell_type": "code",
            "execution_count": 117,
            "metadata": {},
            "outputs": [],
            "source": [
                "# y_train = list(train_model_unsup.labels_)\n",
                "# X_train[\"cluster\"] = y_train\n",
                "# X_train.head()"
            ]
        },
        {
            "cell_type": "code",
            "execution_count": 118,
            "metadata": {},
            "outputs": [
                {
                    "data": {
                        "text/html": [
                            "<style>#sk-container-id-11 {color: black;}#sk-container-id-11 pre{padding: 0;}#sk-container-id-11 div.sk-toggleable {background-color: white;}#sk-container-id-11 label.sk-toggleable__label {cursor: pointer;display: block;width: 100%;margin-bottom: 0;padding: 0.3em;box-sizing: border-box;text-align: center;}#sk-container-id-11 label.sk-toggleable__label-arrow:before {content: \"▸\";float: left;margin-right: 0.25em;color: #696969;}#sk-container-id-11 label.sk-toggleable__label-arrow:hover:before {color: black;}#sk-container-id-11 div.sk-estimator:hover label.sk-toggleable__label-arrow:before {color: black;}#sk-container-id-11 div.sk-toggleable__content {max-height: 0;max-width: 0;overflow: hidden;text-align: left;background-color: #f0f8ff;}#sk-container-id-11 div.sk-toggleable__content pre {margin: 0.2em;color: black;border-radius: 0.25em;background-color: #f0f8ff;}#sk-container-id-11 input.sk-toggleable__control:checked~div.sk-toggleable__content {max-height: 200px;max-width: 100%;overflow: auto;}#sk-container-id-11 input.sk-toggleable__control:checked~label.sk-toggleable__label-arrow:before {content: \"▾\";}#sk-container-id-11 div.sk-estimator input.sk-toggleable__control:checked~label.sk-toggleable__label {background-color: #d4ebff;}#sk-container-id-11 div.sk-label input.sk-toggleable__control:checked~label.sk-toggleable__label {background-color: #d4ebff;}#sk-container-id-11 input.sk-hidden--visually {border: 0;clip: rect(1px 1px 1px 1px);clip: rect(1px, 1px, 1px, 1px);height: 1px;margin: -1px;overflow: hidden;padding: 0;position: absolute;width: 1px;}#sk-container-id-11 div.sk-estimator {font-family: monospace;background-color: #f0f8ff;border: 1px dotted black;border-radius: 0.25em;box-sizing: border-box;margin-bottom: 0.5em;}#sk-container-id-11 div.sk-estimator:hover {background-color: #d4ebff;}#sk-container-id-11 div.sk-parallel-item::after {content: \"\";width: 100%;border-bottom: 1px solid gray;flex-grow: 1;}#sk-container-id-11 div.sk-label:hover label.sk-toggleable__label {background-color: #d4ebff;}#sk-container-id-11 div.sk-serial::before {content: \"\";position: absolute;border-left: 1px solid gray;box-sizing: border-box;top: 0;bottom: 0;left: 50%;z-index: 0;}#sk-container-id-11 div.sk-serial {display: flex;flex-direction: column;align-items: center;background-color: white;padding-right: 0.2em;padding-left: 0.2em;position: relative;}#sk-container-id-11 div.sk-item {position: relative;z-index: 1;}#sk-container-id-11 div.sk-parallel {display: flex;align-items: stretch;justify-content: center;background-color: white;position: relative;}#sk-container-id-11 div.sk-item::before, #sk-container-id-11 div.sk-parallel-item::before {content: \"\";position: absolute;border-left: 1px solid gray;box-sizing: border-box;top: 0;bottom: 0;left: 50%;z-index: -1;}#sk-container-id-11 div.sk-parallel-item {display: flex;flex-direction: column;z-index: 1;position: relative;background-color: white;}#sk-container-id-11 div.sk-parallel-item:first-child::after {align-self: flex-end;width: 50%;}#sk-container-id-11 div.sk-parallel-item:last-child::after {align-self: flex-start;width: 50%;}#sk-container-id-11 div.sk-parallel-item:only-child::after {width: 0;}#sk-container-id-11 div.sk-dashed-wrapped {border: 1px dashed gray;margin: 0 0.4em 0.5em 0.4em;box-sizing: border-box;padding-bottom: 0.4em;background-color: white;}#sk-container-id-11 div.sk-label label {font-family: monospace;font-weight: bold;display: inline-block;line-height: 1.2em;}#sk-container-id-11 div.sk-label-container {text-align: center;}#sk-container-id-11 div.sk-container {/* jupyter's `normalize.less` sets `[hidden] { display: none; }` but bootstrap.min.css set `[hidden] { display: none !important; }` so we also need the `!important` here to be able to override the default hidden behavior on the sphinx rendered scikit-learn.org. See: https://github.com/scikit-learn/scikit-learn/issues/21755 */display: inline-block !important;position: relative;}#sk-container-id-11 div.sk-text-repr-fallback {display: none;}</style><div id=\"sk-container-id-11\" class=\"sk-top-container\"><div class=\"sk-text-repr-fallback\"><pre>KNeighborsClassifier()</pre><b>In a Jupyter environment, please rerun this cell to show the HTML representation or trust the notebook. <br />On GitHub, the HTML representation is unable to render, please try loading this page with nbviewer.org.</b></div><div class=\"sk-container\" hidden><div class=\"sk-item\"><div class=\"sk-estimator sk-toggleable\"><input class=\"sk-toggleable__control sk-hidden--visually\" id=\"sk-estimator-id-11\" type=\"checkbox\" checked><label for=\"sk-estimator-id-11\" class=\"sk-toggleable__label sk-toggleable__label-arrow\">KNeighborsClassifier</label><div class=\"sk-toggleable__content\"><pre>KNeighborsClassifier()</pre></div></div></div></div></div>"
                        ],
                        "text/plain": [
                            "KNeighborsClassifier()"
                        ]
                    },
                    "execution_count": 118,
                    "metadata": {},
                    "output_type": "execute_result"
                }
            ],
            "source": [
                "# from sklearn.neighbors import KNeighborsClassifier\n",
                "\n",
                "# knn_model = KNeighborsClassifier()\n",
                "# knn_model.fit(X_train, y_train)"
            ]
        },
        {
            "cell_type": "code",
            "execution_count": 119,
            "metadata": {},
            "outputs": [
                {
                    "data": {
                        "text/plain": [
                            "array([2, 1, 2, ..., 5, 1, 5], dtype=int32)"
                        ]
                    },
                    "execution_count": 119,
                    "metadata": {},
                    "output_type": "execute_result"
                }
            ],
            "source": [
                "# y_pred = knn_model.predict(X_train)\n",
                "# y_pred"
            ]
        },
        {
            "cell_type": "code",
            "execution_count": 120,
            "metadata": {},
            "outputs": [
                {
                    "data": {
                        "text/plain": [
                            "0.9952761627906976"
                        ]
                    },
                    "execution_count": 120,
                    "metadata": {},
                    "output_type": "execute_result"
                }
            ],
            "source": [
                "# from sklearn.metrics import accuracy_score\n",
                "\n",
                "# accuracy_score(y_train, y_pred)"
            ]
        },
        {
            "cell_type": "code",
            "execution_count": 121,
            "metadata": {},
            "outputs": [
                {
                    "data": {
                        "text/plain": [
                            "array([5, 1, 3, ..., 5, 1, 5], dtype=int32)"
                        ]
                    },
                    "execution_count": 121,
                    "metadata": {},
                    "output_type": "execute_result"
                }
            ],
            "source": [
                "# y_pred_test = knn_model.predict(X_test)\n",
                "# y_pred_test"
            ]
        },
        {
            "cell_type": "code",
            "execution_count": 122,
            "metadata": {},
            "outputs": [
                {
                    "data": {
                        "text/plain": [
                            "0.0007267441860465116"
                        ]
                    },
                    "execution_count": 122,
                    "metadata": {},
                    "output_type": "execute_result"
                }
            ],
            "source": [
                "# accuracy_score(y_test, y_pred_test)"
            ]
        },
        {
            "cell_type": "code",
            "execution_count": 123,
            "metadata": {},
            "outputs": [
                {
                    "name": "stdout",
                    "output_type": "stream",
                    "text": [
                        "Best Combination: {'algorithm': 'auto', 'metric': 'euclidean', 'n_neighbors': 3, 'p': 1, 'weights': 'distance'}\n",
                        "Best Accuracy: 1.0\n"
                    ]
                }
            ],
            "source": [
                "# from sklearn.model_selection import ParameterGrid\n",
                "# best_accuracy = 0\n",
                "# best_combination = None\n",
                "\n",
                "# param_grid  = {\n",
                "#     'n_neighbors':[3, 5, 7],\n",
                "#     'weights': ['uniform', 'distance'],\n",
                "#     'p': [1, 2],\n",
                "#     'algorithm': ['auto', 'ball_tree', 'kd_tree', 'brute'], \n",
                "#     'metric':['euclidean', \"manhattan\",\"cityblock\",\"minkowski\"]\n",
                "# }\n",
                "\n",
                "# for combination in ParameterGrid(param_grid):\n",
                "#     model = KNeighborsClassifier(**combination)\n",
                "#     model.fit(X_train, y_train)   \n",
                "#     y_pred = model.predict(X_train)\n",
                "#     acc = accuracy_score(y_train, y_pred)\n",
                "\n",
                "#     if acc > best_accuracy:\n",
                "#         best_accuracy = acc\n",
                "#         best_combination = combination\n",
                "        \n",
                "# print(\"Best Combination:\", best_combination)\n",
                "# print(\"Best Accuracy:\", best_accuracy)\n"
            ]
        },
        {
            "cell_type": "code",
            "execution_count": 124,
            "metadata": {},
            "outputs": [
                {
                    "data": {
                        "text/html": [
                            "<style>#sk-container-id-12 {color: black;}#sk-container-id-12 pre{padding: 0;}#sk-container-id-12 div.sk-toggleable {background-color: white;}#sk-container-id-12 label.sk-toggleable__label {cursor: pointer;display: block;width: 100%;margin-bottom: 0;padding: 0.3em;box-sizing: border-box;text-align: center;}#sk-container-id-12 label.sk-toggleable__label-arrow:before {content: \"▸\";float: left;margin-right: 0.25em;color: #696969;}#sk-container-id-12 label.sk-toggleable__label-arrow:hover:before {color: black;}#sk-container-id-12 div.sk-estimator:hover label.sk-toggleable__label-arrow:before {color: black;}#sk-container-id-12 div.sk-toggleable__content {max-height: 0;max-width: 0;overflow: hidden;text-align: left;background-color: #f0f8ff;}#sk-container-id-12 div.sk-toggleable__content pre {margin: 0.2em;color: black;border-radius: 0.25em;background-color: #f0f8ff;}#sk-container-id-12 input.sk-toggleable__control:checked~div.sk-toggleable__content {max-height: 200px;max-width: 100%;overflow: auto;}#sk-container-id-12 input.sk-toggleable__control:checked~label.sk-toggleable__label-arrow:before {content: \"▾\";}#sk-container-id-12 div.sk-estimator input.sk-toggleable__control:checked~label.sk-toggleable__label {background-color: #d4ebff;}#sk-container-id-12 div.sk-label input.sk-toggleable__control:checked~label.sk-toggleable__label {background-color: #d4ebff;}#sk-container-id-12 input.sk-hidden--visually {border: 0;clip: rect(1px 1px 1px 1px);clip: rect(1px, 1px, 1px, 1px);height: 1px;margin: -1px;overflow: hidden;padding: 0;position: absolute;width: 1px;}#sk-container-id-12 div.sk-estimator {font-family: monospace;background-color: #f0f8ff;border: 1px dotted black;border-radius: 0.25em;box-sizing: border-box;margin-bottom: 0.5em;}#sk-container-id-12 div.sk-estimator:hover {background-color: #d4ebff;}#sk-container-id-12 div.sk-parallel-item::after {content: \"\";width: 100%;border-bottom: 1px solid gray;flex-grow: 1;}#sk-container-id-12 div.sk-label:hover label.sk-toggleable__label {background-color: #d4ebff;}#sk-container-id-12 div.sk-serial::before {content: \"\";position: absolute;border-left: 1px solid gray;box-sizing: border-box;top: 0;bottom: 0;left: 50%;z-index: 0;}#sk-container-id-12 div.sk-serial {display: flex;flex-direction: column;align-items: center;background-color: white;padding-right: 0.2em;padding-left: 0.2em;position: relative;}#sk-container-id-12 div.sk-item {position: relative;z-index: 1;}#sk-container-id-12 div.sk-parallel {display: flex;align-items: stretch;justify-content: center;background-color: white;position: relative;}#sk-container-id-12 div.sk-item::before, #sk-container-id-12 div.sk-parallel-item::before {content: \"\";position: absolute;border-left: 1px solid gray;box-sizing: border-box;top: 0;bottom: 0;left: 50%;z-index: -1;}#sk-container-id-12 div.sk-parallel-item {display: flex;flex-direction: column;z-index: 1;position: relative;background-color: white;}#sk-container-id-12 div.sk-parallel-item:first-child::after {align-self: flex-end;width: 50%;}#sk-container-id-12 div.sk-parallel-item:last-child::after {align-self: flex-start;width: 50%;}#sk-container-id-12 div.sk-parallel-item:only-child::after {width: 0;}#sk-container-id-12 div.sk-dashed-wrapped {border: 1px dashed gray;margin: 0 0.4em 0.5em 0.4em;box-sizing: border-box;padding-bottom: 0.4em;background-color: white;}#sk-container-id-12 div.sk-label label {font-family: monospace;font-weight: bold;display: inline-block;line-height: 1.2em;}#sk-container-id-12 div.sk-label-container {text-align: center;}#sk-container-id-12 div.sk-container {/* jupyter's `normalize.less` sets `[hidden] { display: none; }` but bootstrap.min.css set `[hidden] { display: none !important; }` so we also need the `!important` here to be able to override the default hidden behavior on the sphinx rendered scikit-learn.org. See: https://github.com/scikit-learn/scikit-learn/issues/21755 */display: inline-block !important;position: relative;}#sk-container-id-12 div.sk-text-repr-fallback {display: none;}</style><div id=\"sk-container-id-12\" class=\"sk-top-container\"><div class=\"sk-text-repr-fallback\"><pre>KNeighborsClassifier(metric=&#x27;euclidean&#x27;, n_neighbors=3, p=1, weights=&#x27;distance&#x27;)</pre><b>In a Jupyter environment, please rerun this cell to show the HTML representation or trust the notebook. <br />On GitHub, the HTML representation is unable to render, please try loading this page with nbviewer.org.</b></div><div class=\"sk-container\" hidden><div class=\"sk-item\"><div class=\"sk-estimator sk-toggleable\"><input class=\"sk-toggleable__control sk-hidden--visually\" id=\"sk-estimator-id-12\" type=\"checkbox\" checked><label for=\"sk-estimator-id-12\" class=\"sk-toggleable__label sk-toggleable__label-arrow\">KNeighborsClassifier</label><div class=\"sk-toggleable__content\"><pre>KNeighborsClassifier(metric=&#x27;euclidean&#x27;, n_neighbors=3, p=1, weights=&#x27;distance&#x27;)</pre></div></div></div></div></div>"
                        ],
                        "text/plain": [
                            "KNeighborsClassifier(metric='euclidean', n_neighbors=3, p=1, weights='distance')"
                        ]
                    },
                    "execution_count": 124,
                    "metadata": {},
                    "output_type": "execute_result"
                }
            ],
            "source": [
                "best_model = KNeighborsClassifier(**best_combination)\n",
                "best_model.fit(X_train, y_train)"
            ]
        },
        {
            "cell_type": "code",
            "execution_count": 125,
            "metadata": {},
            "outputs": [],
            "source": [
                "# y_pred = best_model"
            ]
        },
        {
            "cell_type": "code",
            "execution_count": 126,
            "metadata": {},
            "outputs": [],
            "source": [
                "# from sklearn.model_selection import GridSearchCV\n",
                "# from sklearn.neighbors import KNeighborsClassifier\n",
                "\n",
                "# # Define el modelo KNN\n",
                "# knn = KNeighborsClassifier()\n",
                "\n",
                "# # Define los hiperparámetros a ajustar\n",
                "# param_grid = {\n",
                "#     'n_neighbors': [3, 5, 7],\n",
                "#     'weights': ['uniform', 'distance'],\n",
                "#     'p': [1, 2],\n",
                "#     'metric': ['euclidean', 'manhattan'],\n",
                "#     'algorithm': ['auto', 'ball_tree', 'kd_tree', 'brute']\n",
                "# }\n",
                "\n",
                "# # Realiza la búsqueda en cuadrícula con validación cruzada\n",
                "# grid_search = GridSearchCV(knn, param_grid, cv=5, scoring='accuracy')\n",
                "# grid_search.fit(X_train, y_train)\n",
                "\n",
                "# # Imprime los mejores hiperparámetros encontrados\n",
                "# print(\"Mejores hiperparámetros:\", grid_search.best_params_)\n",
                "\n",
                "# # Obtiene el modelo con los mejores hiperparámetros\n",
                "# best_knn = grid_search.best_estimator_\n",
                "\n",
                "# # Evalúa el modelo en el conjunto de prueba\n",
                "# accuracy = best_knn.score(X_test, y_test)\n",
                "# print(\"Accuracy en conjunto de prueba:\", accuracy)"
            ]
        }
    ],
    "metadata": {
        "kernelspec": {
            "display_name": "Python 3.8.13 64-bit ('3.8.13')",
            "language": "python",
            "name": "python3"
        },
        "language_info": {
            "codemirror_mode": {
                "name": "ipython",
                "version": 3
            },
            "file_extension": ".py",
            "mimetype": "text/x-python",
            "name": "python",
            "nbconvert_exporter": "python",
            "pygments_lexer": "ipython3",
            "version": "3.11.4"
        },
        "orig_nbformat": 4,
        "vscode": {
            "interpreter": {
                "hash": "110cc1dee26208153f2972f08a2ad52b6a56238dc66d48e87fb757ef2996db56"
            }
        }
    },
    "nbformat": 4,
    "nbformat_minor": 2
}
